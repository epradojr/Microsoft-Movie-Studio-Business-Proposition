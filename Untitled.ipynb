{
 "cells": [
  {
   "cell_type": "code",
   "execution_count": 1,
   "id": "bf22c324-2071-437a-b551-c0e15b127c15",
   "metadata": {},
   "outputs": [
    {
     "ename": "NameError",
     "evalue": "name 'last_10years' is not defined",
     "output_type": "error",
     "traceback": [
      "\u001b[0;31m---------------------------------------------------------------------------\u001b[0m",
      "\u001b[0;31mNameError\u001b[0m                                 Traceback (most recent call last)",
      "\u001b[0;32m<ipython-input-1-e778da5a1009>\u001b[0m in \u001b[0;36m<module>\u001b[0;34m\u001b[0m\n\u001b[0;32m----> 1\u001b[0;31m \u001b[0mbudget_top15_profit\u001b[0m \u001b[0;34m=\u001b[0m \u001b[0mlast_10years\u001b[0m\u001b[0;34m.\u001b[0m\u001b[0msort_values\u001b[0m\u001b[0;34m(\u001b[0m\u001b[0;34m'Profit'\u001b[0m\u001b[0;34m,\u001b[0m \u001b[0mascending\u001b[0m \u001b[0;34m=\u001b[0m \u001b[0;32mFalse\u001b[0m\u001b[0;34m)\u001b[0m\u001b[0;34m.\u001b[0m\u001b[0miloc\u001b[0m\u001b[0;34m[\u001b[0m\u001b[0;34m:\u001b[0m\u001b[0;36m15\u001b[0m\u001b[0;34m]\u001b[0m\u001b[0;34m[\u001b[0m\u001b[0;34m'production_budget'\u001b[0m\u001b[0;34m]\u001b[0m\u001b[0;34m.\u001b[0m\u001b[0mtolist\u001b[0m\u001b[0;34m(\u001b[0m\u001b[0;34m)\u001b[0m\u001b[0;34m\u001b[0m\u001b[0;34m\u001b[0m\u001b[0m\n\u001b[0m\u001b[1;32m      2\u001b[0m \u001b[0mbudget_top15_profit\u001b[0m\u001b[0;34m.\u001b[0m\u001b[0mreverse\u001b[0m\u001b[0;34m(\u001b[0m\u001b[0;34m)\u001b[0m\u001b[0;34m\u001b[0m\u001b[0;34m\u001b[0m\u001b[0m\n\u001b[1;32m      3\u001b[0m \u001b[0mbudget_top15_profit\u001b[0m\u001b[0;34m\u001b[0m\u001b[0;34m\u001b[0m\u001b[0m\n",
      "\u001b[0;31mNameError\u001b[0m: name 'last_10years' is not defined"
     ]
    }
   ],
   "source": [
    "budget_top15_profit = last_10years.sort_values('Profit', ascending = False).iloc[:15]['production_budget'].tolist()\n",
    "budget_top15_profit.reverse()\n",
    "budget_top15_profit "
   ]
  },
  {
   "cell_type": "code",
   "execution_count": null,
   "id": "fda19ccb-8a3a-4fe2-ba51-114cad1c76ea",
   "metadata": {},
   "outputs": [],
   "source": [
    "for i in range(len(budget_top15_profit)):\n",
    "    budget_top15_profit[i] *= 0.001\n",
    "(budget_top15_profit)"
   ]
  },
  {
   "cell_type": "code",
   "execution_count": null,
   "id": "e726e3c7-ec99-4d05-94be-fd7c4895b28e",
   "metadata": {},
   "outputs": [],
   "source": [
    "fig, ax = plt.subplots(figsize=(8,6))\n",
    "ax.barh(top15_profit, height_top15_profit)\n",
    "ax.barh(top15_profit, budget_top15_profit)\n",
    "\n",
    "# Add labels for x and y axes\n",
    "ax.set_xlabel('Billions of Dollars')\n",
    "ax.set_title('Top 15 Highest Profit Movies with \\n Highest Production Budget 2011-2020')\n",
    "ax.legend([\"Profit\", \"Production Budget\"], loc=4);"
   ]
  }
 ],
 "metadata": {
  "kernelspec": {
   "display_name": "Python (learn-env)",
   "language": "python",
   "name": "learn-env"
  },
  "language_info": {
   "codemirror_mode": {
    "name": "ipython",
    "version": 3
   },
   "file_extension": ".py",
   "mimetype": "text/x-python",
   "name": "python",
   "nbconvert_exporter": "python",
   "pygments_lexer": "ipython3",
   "version": "3.8.5"
  }
 },
 "nbformat": 4,
 "nbformat_minor": 5
}
