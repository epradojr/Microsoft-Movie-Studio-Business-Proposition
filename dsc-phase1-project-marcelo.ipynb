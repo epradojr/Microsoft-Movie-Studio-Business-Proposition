{
 "cells": [
  {
   "cell_type": "markdown",
   "metadata": {},
   "source": [
    "# Microsoft Movie Studio Business Project\n",
    "\n",
    "**Authors:** Marcelo Scatena\n",
    "***\n",
    "## Overview\n",
    "\n",
    "Microsfot is creating a movie studio and wants business recommendations for it. The Box Office Movies Gross database can give us information on which movies have done better worldwide than others. After the data cleaning, the results show us a big rise on franchise blockbuster movies, and the recommendation to Microsoft would be to start it's own movie franchise."
   ]
  },
  {
   "cell_type": "markdown",
   "metadata": {},
   "source": [
    "## Business Problem\n",
    "\n",
    "Microsoft sees all the big companies creating original video content and they want to get in on the fun. They have decided to create a new movie studio, but they don’t know anything about creating movies. You are charged with exploring what types of films are currently doing the best at the box office. You must then translate those findings into actionable insights that the head of Microsoft's new movie studio can use to help decide what type of films to create.\n",
    "\n",
    "From the database used in this part, the relevant questions to be answered are:\n",
    "* Which are the top grossing movies worldwide?\n",
    "* What genres are those movies?\n",
    "* What movie studio is is featured more often in the top grossing movies?\n",
    "***"
   ]
  },
  {
   "cell_type": "markdown",
   "metadata": {},
   "source": [
    "## Data Understanding\n",
    "\n",
    "The data was aquired from Imdb database, containing information on the Studio, Domestic and Foreign Gross of each of over three thousand movies from 2010 to 2018.\n",
    "From this we can extract the highest grossing movies made in that period.\n",
    "***"
   ]
  },
  {
   "cell_type": "code",
   "execution_count": 1,
   "metadata": {},
   "outputs": [],
   "source": [
    "# Import standard packages\n",
    "import pandas as pd\n",
    "import numpy as np\n",
    "import matplotlib.pyplot as plt\n",
    "import seaborn as sns\n",
    "\n",
    "%matplotlib inline"
   ]
  },
  {
   "cell_type": "code",
   "execution_count": 2,
   "metadata": {},
   "outputs": [],
   "source": [
    "gross_df = pd.read_csv('data/zippedData/bom.movie_gross.csv.gz')"
   ]
  },
  {
   "cell_type": "code",
   "execution_count": 3,
   "metadata": {},
   "outputs": [
    {
     "data": {
      "text/html": [
       "<div>\n",
       "<style scoped>\n",
       "    .dataframe tbody tr th:only-of-type {\n",
       "        vertical-align: middle;\n",
       "    }\n",
       "\n",
       "    .dataframe tbody tr th {\n",
       "        vertical-align: top;\n",
       "    }\n",
       "\n",
       "    .dataframe thead th {\n",
       "        text-align: right;\n",
       "    }\n",
       "</style>\n",
       "<table border=\"1\" class=\"dataframe\">\n",
       "  <thead>\n",
       "    <tr style=\"text-align: right;\">\n",
       "      <th></th>\n",
       "      <th>title</th>\n",
       "      <th>studio</th>\n",
       "      <th>domestic_gross</th>\n",
       "      <th>foreign_gross</th>\n",
       "      <th>year</th>\n",
       "    </tr>\n",
       "  </thead>\n",
       "  <tbody>\n",
       "    <tr>\n",
       "      <th>0</th>\n",
       "      <td>Toy Story 3</td>\n",
       "      <td>BV</td>\n",
       "      <td>415000000.0</td>\n",
       "      <td>652000000</td>\n",
       "      <td>2010</td>\n",
       "    </tr>\n",
       "    <tr>\n",
       "      <th>1</th>\n",
       "      <td>Alice in Wonderland (2010)</td>\n",
       "      <td>BV</td>\n",
       "      <td>334200000.0</td>\n",
       "      <td>691300000</td>\n",
       "      <td>2010</td>\n",
       "    </tr>\n",
       "    <tr>\n",
       "      <th>2</th>\n",
       "      <td>Harry Potter and the Deathly Hallows Part 1</td>\n",
       "      <td>WB</td>\n",
       "      <td>296000000.0</td>\n",
       "      <td>664300000</td>\n",
       "      <td>2010</td>\n",
       "    </tr>\n",
       "    <tr>\n",
       "      <th>3</th>\n",
       "      <td>Inception</td>\n",
       "      <td>WB</td>\n",
       "      <td>292600000.0</td>\n",
       "      <td>535700000</td>\n",
       "      <td>2010</td>\n",
       "    </tr>\n",
       "    <tr>\n",
       "      <th>4</th>\n",
       "      <td>Shrek Forever After</td>\n",
       "      <td>P/DW</td>\n",
       "      <td>238700000.0</td>\n",
       "      <td>513900000</td>\n",
       "      <td>2010</td>\n",
       "    </tr>\n",
       "    <tr>\n",
       "      <th>...</th>\n",
       "      <td>...</td>\n",
       "      <td>...</td>\n",
       "      <td>...</td>\n",
       "      <td>...</td>\n",
       "      <td>...</td>\n",
       "    </tr>\n",
       "    <tr>\n",
       "      <th>3382</th>\n",
       "      <td>The Quake</td>\n",
       "      <td>Magn.</td>\n",
       "      <td>6200.0</td>\n",
       "      <td>NaN</td>\n",
       "      <td>2018</td>\n",
       "    </tr>\n",
       "    <tr>\n",
       "      <th>3383</th>\n",
       "      <td>Edward II (2018 re-release)</td>\n",
       "      <td>FM</td>\n",
       "      <td>4800.0</td>\n",
       "      <td>NaN</td>\n",
       "      <td>2018</td>\n",
       "    </tr>\n",
       "    <tr>\n",
       "      <th>3384</th>\n",
       "      <td>El Pacto</td>\n",
       "      <td>Sony</td>\n",
       "      <td>2500.0</td>\n",
       "      <td>NaN</td>\n",
       "      <td>2018</td>\n",
       "    </tr>\n",
       "    <tr>\n",
       "      <th>3385</th>\n",
       "      <td>The Swan</td>\n",
       "      <td>Synergetic</td>\n",
       "      <td>2400.0</td>\n",
       "      <td>NaN</td>\n",
       "      <td>2018</td>\n",
       "    </tr>\n",
       "    <tr>\n",
       "      <th>3386</th>\n",
       "      <td>An Actor Prepares</td>\n",
       "      <td>Grav.</td>\n",
       "      <td>1700.0</td>\n",
       "      <td>NaN</td>\n",
       "      <td>2018</td>\n",
       "    </tr>\n",
       "  </tbody>\n",
       "</table>\n",
       "<p>3387 rows × 5 columns</p>\n",
       "</div>"
      ],
      "text/plain": [
       "                                            title      studio  domestic_gross  \\\n",
       "0                                     Toy Story 3          BV     415000000.0   \n",
       "1                      Alice in Wonderland (2010)          BV     334200000.0   \n",
       "2     Harry Potter and the Deathly Hallows Part 1          WB     296000000.0   \n",
       "3                                       Inception          WB     292600000.0   \n",
       "4                             Shrek Forever After        P/DW     238700000.0   \n",
       "...                                           ...         ...             ...   \n",
       "3382                                    The Quake       Magn.          6200.0   \n",
       "3383                  Edward II (2018 re-release)          FM          4800.0   \n",
       "3384                                     El Pacto        Sony          2500.0   \n",
       "3385                                     The Swan  Synergetic          2400.0   \n",
       "3386                            An Actor Prepares       Grav.          1700.0   \n",
       "\n",
       "     foreign_gross  year  \n",
       "0        652000000  2010  \n",
       "1        691300000  2010  \n",
       "2        664300000  2010  \n",
       "3        535700000  2010  \n",
       "4        513900000  2010  \n",
       "...            ...   ...  \n",
       "3382           NaN  2018  \n",
       "3383           NaN  2018  \n",
       "3384           NaN  2018  \n",
       "3385           NaN  2018  \n",
       "3386           NaN  2018  \n",
       "\n",
       "[3387 rows x 5 columns]"
      ]
     },
     "execution_count": 3,
     "metadata": {},
     "output_type": "execute_result"
    }
   ],
   "source": [
    "gross_df"
   ]
  },
  {
   "cell_type": "code",
   "execution_count": 4,
   "metadata": {},
   "outputs": [
    {
     "name": "stdout",
     "output_type": "stream",
     "text": [
      "<class 'pandas.core.frame.DataFrame'>\n",
      "RangeIndex: 3387 entries, 0 to 3386\n",
      "Data columns (total 5 columns):\n",
      " #   Column          Non-Null Count  Dtype  \n",
      "---  ------          --------------  -----  \n",
      " 0   title           3387 non-null   object \n",
      " 1   studio          3382 non-null   object \n",
      " 2   domestic_gross  3359 non-null   float64\n",
      " 3   foreign_gross   2037 non-null   object \n",
      " 4   year            3387 non-null   int64  \n",
      "dtypes: float64(1), int64(1), object(3)\n",
      "memory usage: 132.4+ KB\n"
     ]
    }
   ],
   "source": [
    "gross_df.info()"
   ]
  },
  {
   "cell_type": "markdown",
   "metadata": {},
   "source": [
    "## Data Preparation\n",
    "\n",
    "This database had to be cleaned to be used. There are NaN values in the Studio, Domestic and Foreign gross columns. \n",
    "The Foreign Gross column has all values above on billion as a string with a comma and a dot inside.\n",
    "***\n",
    "* The movies with NaN values from the Studio column were dropped because their information was not relevant to our questions.\n",
    "* The Domestic Gross and Foreign Gross NaN values were kept as Zeroes since they don't overlap and the other value can give important insight to data set. The zeroes can be omited in  vizualization.\n",
    "* We cleaned Foreign Gross columns that had objects in it, corrected the values, and change them and the Domestic Gross columns to Int."
   ]
  },
  {
   "cell_type": "markdown",
   "metadata": {},
   "source": [
    "### Dropping Studio NaN values:"
   ]
  },
  {
   "cell_type": "code",
   "execution_count": 5,
   "metadata": {},
   "outputs": [
    {
     "data": {
      "text/html": [
       "<div>\n",
       "<style scoped>\n",
       "    .dataframe tbody tr th:only-of-type {\n",
       "        vertical-align: middle;\n",
       "    }\n",
       "\n",
       "    .dataframe tbody tr th {\n",
       "        vertical-align: top;\n",
       "    }\n",
       "\n",
       "    .dataframe thead th {\n",
       "        text-align: right;\n",
       "    }\n",
       "</style>\n",
       "<table border=\"1\" class=\"dataframe\">\n",
       "  <thead>\n",
       "    <tr style=\"text-align: right;\">\n",
       "      <th></th>\n",
       "      <th>title</th>\n",
       "      <th>studio</th>\n",
       "      <th>domestic_gross</th>\n",
       "      <th>foreign_gross</th>\n",
       "      <th>year</th>\n",
       "    </tr>\n",
       "  </thead>\n",
       "  <tbody>\n",
       "    <tr>\n",
       "      <th>210</th>\n",
       "      <td>Outside the Law (Hors-la-loi)</td>\n",
       "      <td>NaN</td>\n",
       "      <td>96900.0</td>\n",
       "      <td>3300000</td>\n",
       "      <td>2010</td>\n",
       "    </tr>\n",
       "    <tr>\n",
       "      <th>555</th>\n",
       "      <td>Fireflies in the Garden</td>\n",
       "      <td>NaN</td>\n",
       "      <td>70600.0</td>\n",
       "      <td>3300000</td>\n",
       "      <td>2011</td>\n",
       "    </tr>\n",
       "    <tr>\n",
       "      <th>933</th>\n",
       "      <td>Keith Lemon: The Film</td>\n",
       "      <td>NaN</td>\n",
       "      <td>NaN</td>\n",
       "      <td>4000000</td>\n",
       "      <td>2012</td>\n",
       "    </tr>\n",
       "    <tr>\n",
       "      <th>1862</th>\n",
       "      <td>Plot for Peace</td>\n",
       "      <td>NaN</td>\n",
       "      <td>7100.0</td>\n",
       "      <td>NaN</td>\n",
       "      <td>2014</td>\n",
       "    </tr>\n",
       "    <tr>\n",
       "      <th>2825</th>\n",
       "      <td>Secret Superstar</td>\n",
       "      <td>NaN</td>\n",
       "      <td>NaN</td>\n",
       "      <td>122000000</td>\n",
       "      <td>2017</td>\n",
       "    </tr>\n",
       "  </tbody>\n",
       "</table>\n",
       "</div>"
      ],
      "text/plain": [
       "                              title studio  domestic_gross foreign_gross  year\n",
       "210   Outside the Law (Hors-la-loi)    NaN         96900.0       3300000  2010\n",
       "555         Fireflies in the Garden    NaN         70600.0       3300000  2011\n",
       "933           Keith Lemon: The Film    NaN             NaN       4000000  2012\n",
       "1862                 Plot for Peace    NaN          7100.0           NaN  2014\n",
       "2825               Secret Superstar    NaN             NaN     122000000  2017"
      ]
     },
     "execution_count": 5,
     "metadata": {},
     "output_type": "execute_result"
    }
   ],
   "source": [
    "gross_df[gross_df['studio'].isna()]"
   ]
  },
  {
   "cell_type": "code",
   "execution_count": 6,
   "metadata": {},
   "outputs": [],
   "source": [
    "gross_df.dropna(subset=['studio'], inplace=True)"
   ]
  },
  {
   "cell_type": "code",
   "execution_count": 7,
   "metadata": {
    "scrolled": false
   },
   "outputs": [
    {
     "data": {
      "text/plain": [
       "False"
      ]
     },
     "execution_count": 7,
     "metadata": {},
     "output_type": "execute_result"
    }
   ],
   "source": [
    "gross_df['studio'].isna().any()"
   ]
  },
  {
   "cell_type": "markdown",
   "metadata": {},
   "source": [
    "### Filling the rest of the NaN values with 0 for ease of column manipulation:"
   ]
  },
  {
   "cell_type": "code",
   "execution_count": 8,
   "metadata": {},
   "outputs": [],
   "source": [
    "gross_df.fillna(0, inplace=True)"
   ]
  },
  {
   "cell_type": "code",
   "execution_count": 9,
   "metadata": {
    "scrolled": true
   },
   "outputs": [
    {
     "name": "stdout",
     "output_type": "stream",
     "text": [
      "<class 'pandas.core.frame.DataFrame'>\n",
      "Int64Index: 3382 entries, 0 to 3386\n",
      "Data columns (total 5 columns):\n",
      " #   Column          Non-Null Count  Dtype  \n",
      "---  ------          --------------  -----  \n",
      " 0   title           3382 non-null   object \n",
      " 1   studio          3382 non-null   object \n",
      " 2   domestic_gross  3382 non-null   float64\n",
      " 3   foreign_gross   3382 non-null   object \n",
      " 4   year            3382 non-null   int64  \n",
      "dtypes: float64(1), int64(1), object(3)\n",
      "memory usage: 158.5+ KB\n"
     ]
    }
   ],
   "source": [
    "gross_df.info()"
   ]
  },
  {
   "cell_type": "code",
   "execution_count": 10,
   "metadata": {},
   "outputs": [
    {
     "data": {
      "text/plain": [
       "title             False\n",
       "studio            False\n",
       "domestic_gross    False\n",
       "foreign_gross     False\n",
       "year              False\n",
       "dtype: bool"
      ]
     },
     "execution_count": 10,
     "metadata": {},
     "output_type": "execute_result"
    }
   ],
   "source": [
    "gross_df.isna().any()"
   ]
  },
  {
   "cell_type": "markdown",
   "metadata": {},
   "source": [
    "###  Cleaning Foreign Gross and changing it's type Objec into Int, and Domestic Gross into Int:"
   ]
  },
  {
   "cell_type": "code",
   "execution_count": 11,
   "metadata": {},
   "outputs": [],
   "source": [
    "def clean_str(x):\n",
    "    '''\n",
    "    Takes a string that has commas ',' or dots '.' in it, strips them, multiply them by a thousand to adjust their value.\n",
    "    The only strings with this caracteristics were gross values of over one billion.\n",
    "    \n",
    "    Input: string\n",
    "    Output: string stripped, joined and corrected to a billion.\n",
    "    '''\n",
    "    if x:\n",
    "        if ',' in x:\n",
    "            x = x.split(',')\n",
    "            x = ''.join(x)\n",
    "            x = x.split('.')\n",
    "            x = ''.join(x)\n",
    "            x = int(x)\n",
    "            x = x * 100000\n",
    "            x = str(x)\n",
    "            return x\n",
    "        else:\n",
    "            return x\n",
    "    else:\n",
    "        return x"
   ]
  },
  {
   "cell_type": "code",
   "execution_count": 12,
   "metadata": {},
   "outputs": [],
   "source": [
    "gross_df['foreign_gross'] = gross_df['foreign_gross'].apply(str)\n",
    "gross_df['foreign_gross'] = gross_df['foreign_gross'].apply(clean_str)\n",
    "gross_df['foreign_gross'] = gross_df['foreign_gross'].apply(int)\n",
    "gross_df['domestic_gross'] = gross_df['domestic_gross'].apply(int)"
   ]
  },
  {
   "cell_type": "code",
   "execution_count": 13,
   "metadata": {},
   "outputs": [
    {
     "name": "stdout",
     "output_type": "stream",
     "text": [
      "<class 'pandas.core.frame.DataFrame'>\n",
      "Int64Index: 3382 entries, 0 to 3386\n",
      "Data columns (total 5 columns):\n",
      " #   Column          Non-Null Count  Dtype \n",
      "---  ------          --------------  ----- \n",
      " 0   title           3382 non-null   object\n",
      " 1   studio          3382 non-null   object\n",
      " 2   domestic_gross  3382 non-null   int64 \n",
      " 3   foreign_gross   3382 non-null   int64 \n",
      " 4   year            3382 non-null   int64 \n",
      "dtypes: int64(3), object(2)\n",
      "memory usage: 158.5+ KB\n"
     ]
    }
   ],
   "source": [
    "gross_df.info()"
   ]
  },
  {
   "cell_type": "markdown",
   "metadata": {},
   "source": [
    "## Data Modeling\n",
    "Here the Domestic Gross and Foreign Gross were combined, since we are interested in the Total Worldwide Gross.\n",
    "Tables were created featuring the Top 10 Highest Grossing Movies, the Highest Grossing Movie per year and the Top 5 Studios with Highest Overall Gross. These can give us ideas not only on types of movies Microsoft could make, but business partners and overall trend over time."
   ]
  },
  {
   "cell_type": "markdown",
   "metadata": {},
   "source": [
    "### Creating Total Gross column:"
   ]
  },
  {
   "cell_type": "code",
   "execution_count": 14,
   "metadata": {},
   "outputs": [],
   "source": [
    "gross_df['total_gross'] = gross_df['domestic_gross'] + gross_df['foreign_gross']"
   ]
  },
  {
   "cell_type": "code",
   "execution_count": 15,
   "metadata": {
    "scrolled": true
   },
   "outputs": [
    {
     "data": {
      "text/html": [
       "<div>\n",
       "<style scoped>\n",
       "    .dataframe tbody tr th:only-of-type {\n",
       "        vertical-align: middle;\n",
       "    }\n",
       "\n",
       "    .dataframe tbody tr th {\n",
       "        vertical-align: top;\n",
       "    }\n",
       "\n",
       "    .dataframe thead th {\n",
       "        text-align: right;\n",
       "    }\n",
       "</style>\n",
       "<table border=\"1\" class=\"dataframe\">\n",
       "  <thead>\n",
       "    <tr style=\"text-align: right;\">\n",
       "      <th></th>\n",
       "      <th>title</th>\n",
       "      <th>studio</th>\n",
       "      <th>domestic_gross</th>\n",
       "      <th>foreign_gross</th>\n",
       "      <th>year</th>\n",
       "      <th>total_gross</th>\n",
       "    </tr>\n",
       "  </thead>\n",
       "  <tbody>\n",
       "    <tr>\n",
       "      <th>1872</th>\n",
       "      <td>Star Wars: The Force Awakens</td>\n",
       "      <td>BV</td>\n",
       "      <td>936700000</td>\n",
       "      <td>1131600000</td>\n",
       "      <td>2015</td>\n",
       "      <td>2068300000</td>\n",
       "    </tr>\n",
       "    <tr>\n",
       "      <th>3079</th>\n",
       "      <td>Avengers: Infinity War</td>\n",
       "      <td>BV</td>\n",
       "      <td>678800000</td>\n",
       "      <td>1369500000</td>\n",
       "      <td>2018</td>\n",
       "      <td>2048300000</td>\n",
       "    </tr>\n",
       "    <tr>\n",
       "      <th>1873</th>\n",
       "      <td>Jurassic World</td>\n",
       "      <td>Uni.</td>\n",
       "      <td>652300000</td>\n",
       "      <td>1019400000</td>\n",
       "      <td>2015</td>\n",
       "      <td>1671700000</td>\n",
       "    </tr>\n",
       "    <tr>\n",
       "      <th>727</th>\n",
       "      <td>Marvel's The Avengers</td>\n",
       "      <td>BV</td>\n",
       "      <td>623400000</td>\n",
       "      <td>895500000</td>\n",
       "      <td>2012</td>\n",
       "      <td>1518900000</td>\n",
       "    </tr>\n",
       "    <tr>\n",
       "      <th>1874</th>\n",
       "      <td>Furious 7</td>\n",
       "      <td>Uni.</td>\n",
       "      <td>353000000</td>\n",
       "      <td>1163000000</td>\n",
       "      <td>2015</td>\n",
       "      <td>1516000000</td>\n",
       "    </tr>\n",
       "    <tr>\n",
       "      <th>1875</th>\n",
       "      <td>Avengers: Age of Ultron</td>\n",
       "      <td>BV</td>\n",
       "      <td>459000000</td>\n",
       "      <td>946400000</td>\n",
       "      <td>2015</td>\n",
       "      <td>1405400000</td>\n",
       "    </tr>\n",
       "    <tr>\n",
       "      <th>3080</th>\n",
       "      <td>Black Panther</td>\n",
       "      <td>BV</td>\n",
       "      <td>700100000</td>\n",
       "      <td>646900000</td>\n",
       "      <td>2018</td>\n",
       "      <td>1347000000</td>\n",
       "    </tr>\n",
       "    <tr>\n",
       "      <th>328</th>\n",
       "      <td>Harry Potter and the Deathly Hallows Part 2</td>\n",
       "      <td>WB</td>\n",
       "      <td>381000000</td>\n",
       "      <td>960500000</td>\n",
       "      <td>2011</td>\n",
       "      <td>1341500000</td>\n",
       "    </tr>\n",
       "    <tr>\n",
       "      <th>2758</th>\n",
       "      <td>Star Wars: The Last Jedi</td>\n",
       "      <td>BV</td>\n",
       "      <td>620200000</td>\n",
       "      <td>712400000</td>\n",
       "      <td>2017</td>\n",
       "      <td>1332600000</td>\n",
       "    </tr>\n",
       "    <tr>\n",
       "      <th>3081</th>\n",
       "      <td>Jurassic World: Fallen Kingdom</td>\n",
       "      <td>Uni.</td>\n",
       "      <td>417700000</td>\n",
       "      <td>891800000</td>\n",
       "      <td>2018</td>\n",
       "      <td>1309500000</td>\n",
       "    </tr>\n",
       "  </tbody>\n",
       "</table>\n",
       "</div>"
      ],
      "text/plain": [
       "                                            title studio  domestic_gross  \\\n",
       "1872                 Star Wars: The Force Awakens     BV       936700000   \n",
       "3079                       Avengers: Infinity War     BV       678800000   \n",
       "1873                               Jurassic World   Uni.       652300000   \n",
       "727                         Marvel's The Avengers     BV       623400000   \n",
       "1874                                    Furious 7   Uni.       353000000   \n",
       "1875                      Avengers: Age of Ultron     BV       459000000   \n",
       "3080                                Black Panther     BV       700100000   \n",
       "328   Harry Potter and the Deathly Hallows Part 2     WB       381000000   \n",
       "2758                     Star Wars: The Last Jedi     BV       620200000   \n",
       "3081               Jurassic World: Fallen Kingdom   Uni.       417700000   \n",
       "\n",
       "      foreign_gross  year  total_gross  \n",
       "1872     1131600000  2015   2068300000  \n",
       "3079     1369500000  2018   2048300000  \n",
       "1873     1019400000  2015   1671700000  \n",
       "727       895500000  2012   1518900000  \n",
       "1874     1163000000  2015   1516000000  \n",
       "1875      946400000  2015   1405400000  \n",
       "3080      646900000  2018   1347000000  \n",
       "328       960500000  2011   1341500000  \n",
       "2758      712400000  2017   1332600000  \n",
       "3081      891800000  2018   1309500000  "
      ]
     },
     "execution_count": 15,
     "metadata": {},
     "output_type": "execute_result"
    }
   ],
   "source": [
    "gross_df.sort_values(by='total_gross', ascending=False)[:10]"
   ]
  },
  {
   "cell_type": "code",
   "execution_count": 92,
   "metadata": {},
   "outputs": [
    {
     "data": {
      "text/html": [
       "<div>\n",
       "<style scoped>\n",
       "    .dataframe tbody tr th:only-of-type {\n",
       "        vertical-align: middle;\n",
       "    }\n",
       "\n",
       "    .dataframe tbody tr th {\n",
       "        vertical-align: top;\n",
       "    }\n",
       "\n",
       "    .dataframe thead th {\n",
       "        text-align: right;\n",
       "    }\n",
       "</style>\n",
       "<table border=\"1\" class=\"dataframe\">\n",
       "  <thead>\n",
       "    <tr style=\"text-align: right;\">\n",
       "      <th></th>\n",
       "      <th>title</th>\n",
       "      <th>studio</th>\n",
       "      <th>domestic_gross</th>\n",
       "      <th>foreign_gross</th>\n",
       "      <th>year</th>\n",
       "      <th>total_gross</th>\n",
       "    </tr>\n",
       "  </thead>\n",
       "  <tbody>\n",
       "    <tr>\n",
       "      <th>793</th>\n",
       "      <td>Star Wars: Episode I - The Phantom Menace (in 3D)</td>\n",
       "      <td>Fox</td>\n",
       "      <td>43500000</td>\n",
       "      <td>59300000</td>\n",
       "      <td>2012</td>\n",
       "      <td>102800000</td>\n",
       "    </tr>\n",
       "    <tr>\n",
       "      <th>1872</th>\n",
       "      <td>Star Wars: The Force Awakens</td>\n",
       "      <td>BV</td>\n",
       "      <td>936700000</td>\n",
       "      <td>1131600000</td>\n",
       "      <td>2015</td>\n",
       "      <td>2068300000</td>\n",
       "    </tr>\n",
       "    <tr>\n",
       "      <th>2323</th>\n",
       "      <td>Rogue One: A Star Wars Story</td>\n",
       "      <td>BV</td>\n",
       "      <td>532200000</td>\n",
       "      <td>523900000</td>\n",
       "      <td>2016</td>\n",
       "      <td>1056100000</td>\n",
       "    </tr>\n",
       "    <tr>\n",
       "      <th>2758</th>\n",
       "      <td>Star Wars: The Last Jedi</td>\n",
       "      <td>BV</td>\n",
       "      <td>620200000</td>\n",
       "      <td>712400000</td>\n",
       "      <td>2017</td>\n",
       "      <td>1332600000</td>\n",
       "    </tr>\n",
       "    <tr>\n",
       "      <th>3101</th>\n",
       "      <td>Solo: A Star Wars Story</td>\n",
       "      <td>BV</td>\n",
       "      <td>213800000</td>\n",
       "      <td>179200000</td>\n",
       "      <td>2018</td>\n",
       "      <td>393000000</td>\n",
       "    </tr>\n",
       "  </tbody>\n",
       "</table>\n",
       "</div>"
      ],
      "text/plain": [
       "                                                  title studio  \\\n",
       "793   Star Wars: Episode I - The Phantom Menace (in 3D)    Fox   \n",
       "1872                       Star Wars: The Force Awakens     BV   \n",
       "2323                       Rogue One: A Star Wars Story     BV   \n",
       "2758                           Star Wars: The Last Jedi     BV   \n",
       "3101                            Solo: A Star Wars Story     BV   \n",
       "\n",
       "      domestic_gross  foreign_gross  year  total_gross  \n",
       "793         43500000       59300000  2012    102800000  \n",
       "1872       936700000     1131600000  2015   2068300000  \n",
       "2323       532200000      523900000  2016   1056100000  \n",
       "2758       620200000      712400000  2017   1332600000  \n",
       "3101       213800000      179200000  2018    393000000  "
      ]
     },
     "execution_count": 92,
     "metadata": {},
     "output_type": "execute_result"
    }
   ],
   "source": [
    "gross_df[gross_df['title'].str.contains('Star Wars')]"
   ]
  },
  {
   "cell_type": "code",
   "execution_count": 17,
   "metadata": {},
   "outputs": [
    {
     "data": {
      "text/html": [
       "<div>\n",
       "<style scoped>\n",
       "    .dataframe tbody tr th:only-of-type {\n",
       "        vertical-align: middle;\n",
       "    }\n",
       "\n",
       "    .dataframe tbody tr th {\n",
       "        vertical-align: top;\n",
       "    }\n",
       "\n",
       "    .dataframe thead th {\n",
       "        text-align: right;\n",
       "    }\n",
       "</style>\n",
       "<table border=\"1\" class=\"dataframe\">\n",
       "  <thead>\n",
       "    <tr style=\"text-align: right;\">\n",
       "      <th></th>\n",
       "      <th>title</th>\n",
       "      <th>studio</th>\n",
       "      <th>domestic_gross</th>\n",
       "      <th>foreign_gross</th>\n",
       "      <th>year</th>\n",
       "      <th>total_gross</th>\n",
       "    </tr>\n",
       "  </thead>\n",
       "  <tbody>\n",
       "    <tr>\n",
       "      <th>2</th>\n",
       "      <td>Harry Potter and the Deathly Hallows Part 1</td>\n",
       "      <td>WB</td>\n",
       "      <td>296000000</td>\n",
       "      <td>664300000</td>\n",
       "      <td>2010</td>\n",
       "      <td>960300000</td>\n",
       "    </tr>\n",
       "    <tr>\n",
       "      <th>328</th>\n",
       "      <td>Harry Potter and the Deathly Hallows Part 2</td>\n",
       "      <td>WB</td>\n",
       "      <td>381000000</td>\n",
       "      <td>960500000</td>\n",
       "      <td>2011</td>\n",
       "      <td>1341500000</td>\n",
       "    </tr>\n",
       "  </tbody>\n",
       "</table>\n",
       "</div>"
      ],
      "text/plain": [
       "                                           title studio  domestic_gross  \\\n",
       "2    Harry Potter and the Deathly Hallows Part 1     WB       296000000   \n",
       "328  Harry Potter and the Deathly Hallows Part 2     WB       381000000   \n",
       "\n",
       "     foreign_gross  year  total_gross  \n",
       "2        664300000  2010    960300000  \n",
       "328      960500000  2011   1341500000  "
      ]
     },
     "execution_count": 17,
     "metadata": {},
     "output_type": "execute_result"
    }
   ],
   "source": [
    "gross_df[gross_df['title'].str.contains('Harry Potter')]"
   ]
  },
  {
   "cell_type": "code",
   "execution_count": 93,
   "metadata": {},
   "outputs": [
    {
     "data": {
      "text/html": [
       "<div>\n",
       "<style scoped>\n",
       "    .dataframe tbody tr th:only-of-type {\n",
       "        vertical-align: middle;\n",
       "    }\n",
       "\n",
       "    .dataframe tbody tr th {\n",
       "        vertical-align: top;\n",
       "    }\n",
       "\n",
       "    .dataframe thead th {\n",
       "        text-align: right;\n",
       "    }\n",
       "</style>\n",
       "<table border=\"1\" class=\"dataframe\">\n",
       "  <thead>\n",
       "    <tr style=\"text-align: right;\">\n",
       "      <th></th>\n",
       "      <th>title</th>\n",
       "      <th>studio</th>\n",
       "      <th>domestic_gross</th>\n",
       "      <th>foreign_gross</th>\n",
       "      <th>year</th>\n",
       "      <th>total_gross</th>\n",
       "    </tr>\n",
       "  </thead>\n",
       "  <tbody>\n",
       "    <tr>\n",
       "      <th>329</th>\n",
       "      <td>Transformers: Dark of the Moon</td>\n",
       "      <td>P/DW</td>\n",
       "      <td>352400000</td>\n",
       "      <td>771400000</td>\n",
       "      <td>2011</td>\n",
       "      <td>1123800000</td>\n",
       "    </tr>\n",
       "    <tr>\n",
       "      <th>4</th>\n",
       "      <td>Shrek Forever After</td>\n",
       "      <td>P/DW</td>\n",
       "      <td>238700000</td>\n",
       "      <td>513900000</td>\n",
       "      <td>2010</td>\n",
       "      <td>752600000</td>\n",
       "    </tr>\n",
       "    <tr>\n",
       "      <th>734</th>\n",
       "      <td>Madagascar 3: Europe's Most Wanted</td>\n",
       "      <td>P/DW</td>\n",
       "      <td>216400000</td>\n",
       "      <td>530500000</td>\n",
       "      <td>2012</td>\n",
       "      <td>746900000</td>\n",
       "    </tr>\n",
       "    <tr>\n",
       "      <th>333</th>\n",
       "      <td>Kung Fu Panda 2</td>\n",
       "      <td>P/DW</td>\n",
       "      <td>165200000</td>\n",
       "      <td>500400000</td>\n",
       "      <td>2011</td>\n",
       "      <td>665600000</td>\n",
       "    </tr>\n",
       "    <tr>\n",
       "      <th>338</th>\n",
       "      <td>Puss in Boots</td>\n",
       "      <td>P/DW</td>\n",
       "      <td>149300000</td>\n",
       "      <td>405700000</td>\n",
       "      <td>2011</td>\n",
       "      <td>555000000</td>\n",
       "    </tr>\n",
       "    <tr>\n",
       "      <th>9</th>\n",
       "      <td>How to Train Your Dragon</td>\n",
       "      <td>P/DW</td>\n",
       "      <td>217600000</td>\n",
       "      <td>277300000</td>\n",
       "      <td>2010</td>\n",
       "      <td>494900000</td>\n",
       "    </tr>\n",
       "    <tr>\n",
       "      <th>17</th>\n",
       "      <td>Megamind</td>\n",
       "      <td>P/DW</td>\n",
       "      <td>148400000</td>\n",
       "      <td>173500000</td>\n",
       "      <td>2010</td>\n",
       "      <td>321900000</td>\n",
       "    </tr>\n",
       "    <tr>\n",
       "      <th>752</th>\n",
       "      <td>Rise of the Guardians</td>\n",
       "      <td>P/DW</td>\n",
       "      <td>103400000</td>\n",
       "      <td>203500000</td>\n",
       "      <td>2012</td>\n",
       "      <td>306900000</td>\n",
       "    </tr>\n",
       "    <tr>\n",
       "      <th>71</th>\n",
       "      <td>Dinner for Schmucks</td>\n",
       "      <td>P/DW</td>\n",
       "      <td>73000000</td>\n",
       "      <td>13800000</td>\n",
       "      <td>2010</td>\n",
       "      <td>86800000</td>\n",
       "    </tr>\n",
       "    <tr>\n",
       "      <th>865</th>\n",
       "      <td>A Thousand Words</td>\n",
       "      <td>P/DW</td>\n",
       "      <td>18500000</td>\n",
       "      <td>3600000</td>\n",
       "      <td>2012</td>\n",
       "      <td>22100000</td>\n",
       "    </tr>\n",
       "  </tbody>\n",
       "</table>\n",
       "</div>"
      ],
      "text/plain": [
       "                                  title studio  domestic_gross  foreign_gross  \\\n",
       "329      Transformers: Dark of the Moon   P/DW       352400000      771400000   \n",
       "4                   Shrek Forever After   P/DW       238700000      513900000   \n",
       "734  Madagascar 3: Europe's Most Wanted   P/DW       216400000      530500000   \n",
       "333                     Kung Fu Panda 2   P/DW       165200000      500400000   \n",
       "338                       Puss in Boots   P/DW       149300000      405700000   \n",
       "9              How to Train Your Dragon   P/DW       217600000      277300000   \n",
       "17                             Megamind   P/DW       148400000      173500000   \n",
       "752               Rise of the Guardians   P/DW       103400000      203500000   \n",
       "71                  Dinner for Schmucks   P/DW        73000000       13800000   \n",
       "865                    A Thousand Words   P/DW        18500000        3600000   \n",
       "\n",
       "     year  total_gross  \n",
       "329  2011   1123800000  \n",
       "4    2010    752600000  \n",
       "734  2012    746900000  \n",
       "333  2011    665600000  \n",
       "338  2011    555000000  \n",
       "9    2010    494900000  \n",
       "17   2010    321900000  \n",
       "752  2012    306900000  \n",
       "71   2010     86800000  \n",
       "865  2012     22100000  "
      ]
     },
     "execution_count": 93,
     "metadata": {},
     "output_type": "execute_result"
    }
   ],
   "source": [
    "gross_df[gross_df['studio'].str.contains('DW')].sort_values(by=['total_gross'], ascending=False)[:30]"
   ]
  },
  {
   "cell_type": "markdown",
   "metadata": {},
   "source": [
    "### Extracting Title and Total Gross value from top 10 highest grossing movies:"
   ]
  },
  {
   "cell_type": "code",
   "execution_count": 47,
   "metadata": {},
   "outputs": [],
   "source": [
    "height_top10_gross = sorted(gross_df.sort_values(by='total_gross', ascending=False)[:10]['total_gross'].tolist())\n",
    "x_top10_gross = gross_df.sort_values(by='total_gross', ascending=False)[:10]['title'].values.tolist()\n",
    "x_top10_gross.reverse()"
   ]
  },
  {
   "cell_type": "markdown",
   "metadata": {},
   "source": [
    "### Setting values in Billions of dollars for easier visualization:"
   ]
  },
  {
   "cell_type": "code",
   "execution_count": 48,
   "metadata": {},
   "outputs": [],
   "source": [
    "for i in range(len(height_top10_gross)):\n",
    "    height_top10_gross[i] /= 1000000000"
   ]
  },
  {
   "cell_type": "code",
   "execution_count": 49,
   "metadata": {
    "scrolled": true
   },
   "outputs": [
    {
     "data": {
      "image/png": "[encoded data removed]",
      "text/plain": [
       "<Figure size 576x360 with 1 Axes>"
      ]
     },
     "metadata": {
      "needs_background": "light"
     },
     "output_type": "display_data"
    }
   ],
   "source": [
    "fig, ax = plt.subplots(figsize=(8,5))\n",
    "\n",
    "ax.barh(x_top10_gross, height_top10_gross)\n",
    "ax.set_title('Top 10 Highest Gross Movies')\n",
    "ax.set_xlabel('Gross in Billions of Dollars ($)');"
   ]
  },
  {
   "cell_type": "code",
   "execution_count": 87,
   "metadata": {},
   "outputs": [
    {
     "data": {
      "image/png": "[encoded data removed]",
      "text/plain": [
       "<Figure size 576x360 with 1 Axes>"
      ]
     },
     "metadata": {
      "needs_background": "light"
     },
     "output_type": "display_data"
    }
   ],
   "source": [
    "fig, ax = plt.subplots(figsize=(8,5))\n",
    "# x_top10_gross.reverse()\n",
    "# height_top10_gross.reverse()\n",
    "# clrs = ['grey' if gross_df[gross_df['studio'].str.contains('BV')] else 'red' for x in x_top10_gross]\n",
    "\n",
    "barplot = sns.barplot(x=height_top10_gross, y=x_top10_gross, data=gross_df, color='#00A4EF')\n",
    "barplot.set(title='Top 10 Highest Gross Movies', xlabel='Gross in Billions of Dollars ($)');"
   ]
  },
  {
   "cell_type": "code",
   "execution_count": null,
   "metadata": {},
   "outputs": [],
   "source": [
    "fig, ax = plt.subplots(figsize=(8,5))\n",
    "# x_top10_gross.reverse()\n",
    "# height_top10_gross.reverse()\n",
    "# clrs = ['grey' if gross_df[gross_df['studio'].str.contains('BV')] else 'red' for x in x_top10_gross]\n",
    "\n",
    "barplot = sns.barplot(x=height_top10_gross, y=x_top10_gross, data=gross_df, color='#7FBA00')\n",
    "barplot.set(title='Top 10 Highest Gross Movies', xlabel='Gross in Billions of Dollars ($)');"
   ]
  },
  {
   "cell_type": "code",
   "execution_count": 22,
   "metadata": {
    "scrolled": false
   },
   "outputs": [
    {
     "data": {
      "text/plain": [
       "studio\n",
       "Sony    1108600000\n",
       "P/DW    1123800000\n",
       "WB      1341500000\n",
       "Uni.    1671700000\n",
       "BV      2068300000\n",
       "Name: total_gross, dtype: int64"
      ]
     },
     "execution_count": 22,
     "metadata": {},
     "output_type": "execute_result"
    }
   ],
   "source": [
    "gross_df.groupby(['studio'])['total_gross'].max().sort_values()[-5:]"
   ]
  },
  {
   "cell_type": "code",
   "execution_count": 23,
   "metadata": {},
   "outputs": [],
   "source": [
    "height_studio_max = gross_df.groupby(['studio'])['total_gross'].max().sort_values()[-5:].values"
   ]
  },
  {
   "cell_type": "code",
   "execution_count": 24,
   "metadata": {},
   "outputs": [],
   "source": [
    "x_studio_max = gross_df.groupby(['studio'])['total_gross'].max().sort_values()[-5:].index"
   ]
  },
  {
   "cell_type": "code",
   "execution_count": 25,
   "metadata": {},
   "outputs": [],
   "source": [
    "for i in range(len(height_studio_max)):\n",
    "    height_studio_max[i] /= 1000000"
   ]
  },
  {
   "cell_type": "code",
   "execution_count": 26,
   "metadata": {
    "scrolled": true
   },
   "outputs": [
    {
     "data": {
      "image/png": "[encoded data removed]",
      "text/plain": [
       "<Figure size 432x288 with 1 Axes>"
      ]
     },
     "metadata": {
      "needs_background": "light"
     },
     "output_type": "display_data"
    }
   ],
   "source": [
    "fig, ax = plt.subplots()\n",
    "\n",
    "studios = ('Sony', 'DreamWorks', 'Warner Brothers', 'Universal', 'Disney')\n",
    "\n",
    "ax.barh(x_studio_max, height_studio_max)\n",
    "ax.set_title('Highest Gross from each Studio')\n",
    "ax.set_xlabel('Gross in Millions of Dollars ($)')\n",
    "ax.set_yticks(np.arange(len(studios)))\n",
    "ax.set_yticklabels(studios);"
   ]
  },
  {
   "cell_type": "code",
   "execution_count": 27,
   "metadata": {},
   "outputs": [],
   "source": [
    "height_year_total = gross_df.groupby(['year'])['total_gross'].max().sort_values().values"
   ]
  },
  {
   "cell_type": "code",
   "execution_count": 28,
   "metadata": {},
   "outputs": [],
   "source": [
    "x_year_total = gross_df.groupby(['year'])['total_gross'].max().sort_values().index"
   ]
  },
  {
   "cell_type": "code",
   "execution_count": 29,
   "metadata": {},
   "outputs": [],
   "source": [
    "for i in range(len(height_year_total)):\n",
    "    height_year_total[i] /= 1000000"
   ]
  },
  {
   "cell_type": "code",
   "execution_count": 30,
   "metadata": {},
   "outputs": [
    {
     "data": {
      "image/png": "[encoded data removed]",
      "text/plain": [
       "<Figure size 432x288 with 1 Axes>"
      ]
     },
     "metadata": {
      "needs_background": "light"
     },
     "output_type": "display_data"
    }
   ],
   "source": [
    "fig, ax = plt.subplots()\n",
    "\n",
    "ax.barh(x_year_total, height_year_total)\n",
    "ax.set_title('Highest Gross each Year')\n",
    "ax.set_xlabel('Gross in Millions of Dollars ($)');"
   ]
  },
  {
   "cell_type": "markdown",
   "metadata": {},
   "source": [
    "## Evaluation\n",
    "This data shows That Disney is currently making the highest grossing movies nowadays.\n",
    "The top10 high gross movies are all franchise movies. There's the Star Wars franchise, Avengers franchise, Jurassic Park franchise, Fast and Furious franchise and Harry Potter franchise.\n",
    "The highest gross movie per year have not offered extra insights in the data.\n",
    "Since the franchises these movies are a part of are not new (all of them have over 10 years of movies), we cold assume an extrapolation of the data would give similar results.\n",
    "***"
   ]
  },
  {
   "cell_type": "markdown",
   "metadata": {},
   "source": [
    "## Conclusions\n",
    "The data for only the last eight years is limited, but if one is looking to make a big box office movie in the next few years, the data from over a decade ago might be less relevant for decision making.\n",
    "This data needs to be cross referenced with others for us to make more thorough points.\n",
    "As of now I'd recommend picking a franchise that have not yet debuted in the cinemas get their IP\n",
    "(Broken Earth trilogy, The A Throne Of Glass Series, Red Queen).\n",
    "***"
   ]
  }
 ],
 "metadata": {
  "kernelspec": {
   "display_name": "Python 3",
   "language": "python",
   "name": "python3"
  },
  "language_info": {
   "codemirror_mode": {
    "name": "ipython",
    "version": 3
   },
   "file_extension": ".py",
   "mimetype": "text/x-python",
   "name": "python",
   "nbconvert_exporter": "python",
   "pygments_lexer": "ipython3",
   "version": "3.8.8"
  }
 },
 "nbformat": 4,
 "nbformat_minor": 4
}
