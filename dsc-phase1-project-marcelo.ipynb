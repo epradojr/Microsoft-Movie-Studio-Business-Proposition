{
 "cells": [
  {
   "cell_type": "markdown",
   "metadata": {},
   "source": [
    "# Microsoft Movie Studio Business Project\n",
    "\n",
    "**Authors:** Marcelo Scatena\n",
    "***\n",
    "## Overview\n",
    "\n",
    "Microsfot is creating a movie studio and wants business recommendations for it. The Box Office Movies Gross database can give us information on which movies have done better worldwide than others. After the data cleaning, the results show us a big rise on franchise blockbuster movies, and the recommendation to Microsoft would be to start it's own movie franchise."
   ]
  },
  {
   "cell_type": "markdown",
   "metadata": {},
   "source": [
    "## Business Problem\n",
    "\n",
    "Microsoft sees all the big companies creating original video content and they want to get in on the fun. They have decided to create a new movie studio, but they don’t know anything about creating movies. You are charged with exploring what types of films are currently doing the best at the box office. You must then translate those findings into actionable insights that the head of Microsoft's new movie studio can use to help decide what type of films to create.\n",
    "\n",
    "From the database used in this part, the relevant questions to be answered are:\n",
    "* Which are the top grossing movies worldwide?\n",
    "* What genres are those movies?\n",
    "* What movie studio is is featured more often in the top grossing movies?\n",
    "***"
   ]
  },
  {
   "cell_type": "markdown",
   "metadata": {},
   "source": [
    "## Data Understanding\n",
    "\n",
    "The data was aquired from Imdb database, containing information on the Studio, Domestic and Foreign Gross of each of over three thousand movies from 2010 to 2018.\n",
    "From this we can extract the highest grossing movies made in that period.\n",
    "***"
   ]
  },
  {
   "cell_type": "code",
   "execution_count": 1,
   "metadata": {},
   "outputs": [],
   "source": [
    "# Import standard packages\n",
    "import pandas as pd\n",
    "import numpy as np\n",
    "import matplotlib.pyplot as plt\n",
    "import seaborn as sns\n",
    "\n",
    "%matplotlib inline"
   ]
  },
  {
   "cell_type": "code",
   "execution_count": 2,
   "metadata": {},
   "outputs": [],
   "source": [
    "gross_df = pd.read_csv('data/zippedData/bom.movie_gross.csv.gz')"
   ]
  },
  {
   "cell_type": "code",
   "execution_count": 3,
   "metadata": {},
   "outputs": [
    {
     "name": "stdout",
     "output_type": "stream",
     "text": [
      "<class 'pandas.core.frame.DataFrame'>\n",
      "RangeIndex: 3387 entries, 0 to 3386\n",
      "Data columns (total 5 columns):\n",
      " #   Column          Non-Null Count  Dtype  \n",
      "---  ------          --------------  -----  \n",
      " 0   title           3387 non-null   object \n",
      " 1   studio          3382 non-null   object \n",
      " 2   domestic_gross  3359 non-null   float64\n",
      " 3   foreign_gross   2037 non-null   object \n",
      " 4   year            3387 non-null   int64  \n",
      "dtypes: float64(1), int64(1), object(3)\n",
      "memory usage: 132.4+ KB\n"
     ]
    }
   ],
   "source": [
    "gross_df.info()"
   ]
  },
  {
   "cell_type": "markdown",
   "metadata": {},
   "source": [
    "## Data Preparation\n",
    "\n",
    "This database had to be cleaned to be used. There are NaN values in the Studio, Domestic and Foreign gross columns. \n",
    "The Foreign Gross column has all values above on billion as a string with a comma and a dot inside.\n",
    "***\n",
    "* The movies with NaN values from the Studio column were dropped because their information was not relevant to our questions.\n",
    "* The Domestic Gross and Foreign Gross NaN values were kept as Zeroes since they don't overlap and the other value can give important insight to data set. The zeroes can be omited in  vizualization.\n",
    "* We cleaned Foreign Gross columns that had objects in it, corrected the values, and change them and the Domestic Gross columns to Int."
   ]
  },
  {
   "cell_type": "markdown",
   "metadata": {},
   "source": [
    "### Dropping Studio NaN values:"
   ]
  },
  {
   "cell_type": "code",
   "execution_count": 4,
   "metadata": {},
   "outputs": [
    {
     "data": {
      "text/html": [
       "<div>\n",
       "<style scoped>\n",
       "    .dataframe tbody tr th:only-of-type {\n",
       "        vertical-align: middle;\n",
       "    }\n",
       "\n",
       "    .dataframe tbody tr th {\n",
       "        vertical-align: top;\n",
       "    }\n",
       "\n",
       "    .dataframe thead th {\n",
       "        text-align: right;\n",
       "    }\n",
       "</style>\n",
       "<table border=\"1\" class=\"dataframe\">\n",
       "  <thead>\n",
       "    <tr style=\"text-align: right;\">\n",
       "      <th></th>\n",
       "      <th>title</th>\n",
       "      <th>studio</th>\n",
       "      <th>domestic_gross</th>\n",
       "      <th>foreign_gross</th>\n",
       "      <th>year</th>\n",
       "    </tr>\n",
       "  </thead>\n",
       "  <tbody>\n",
       "    <tr>\n",
       "      <th>210</th>\n",
       "      <td>Outside the Law (Hors-la-loi)</td>\n",
       "      <td>NaN</td>\n",
       "      <td>96900.0</td>\n",
       "      <td>3300000</td>\n",
       "      <td>2010</td>\n",
       "    </tr>\n",
       "    <tr>\n",
       "      <th>555</th>\n",
       "      <td>Fireflies in the Garden</td>\n",
       "      <td>NaN</td>\n",
       "      <td>70600.0</td>\n",
       "      <td>3300000</td>\n",
       "      <td>2011</td>\n",
       "    </tr>\n",
       "    <tr>\n",
       "      <th>933</th>\n",
       "      <td>Keith Lemon: The Film</td>\n",
       "      <td>NaN</td>\n",
       "      <td>NaN</td>\n",
       "      <td>4000000</td>\n",
       "      <td>2012</td>\n",
       "    </tr>\n",
       "    <tr>\n",
       "      <th>1862</th>\n",
       "      <td>Plot for Peace</td>\n",
       "      <td>NaN</td>\n",
       "      <td>7100.0</td>\n",
       "      <td>NaN</td>\n",
       "      <td>2014</td>\n",
       "    </tr>\n",
       "    <tr>\n",
       "      <th>2825</th>\n",
       "      <td>Secret Superstar</td>\n",
       "      <td>NaN</td>\n",
       "      <td>NaN</td>\n",
       "      <td>122000000</td>\n",
       "      <td>2017</td>\n",
       "    </tr>\n",
       "  </tbody>\n",
       "</table>\n",
       "</div>"
      ],
      "text/plain": [
       "                              title studio  domestic_gross foreign_gross  year\n",
       "210   Outside the Law (Hors-la-loi)    NaN         96900.0       3300000  2010\n",
       "555         Fireflies in the Garden    NaN         70600.0       3300000  2011\n",
       "933           Keith Lemon: The Film    NaN             NaN       4000000  2012\n",
       "1862                 Plot for Peace    NaN          7100.0           NaN  2014\n",
       "2825               Secret Superstar    NaN             NaN     122000000  2017"
      ]
     },
     "execution_count": 4,
     "metadata": {},
     "output_type": "execute_result"
    }
   ],
   "source": [
    "gross_df[gross_df['studio'].isna()]"
   ]
  },
  {
   "cell_type": "code",
   "execution_count": 5,
   "metadata": {},
   "outputs": [],
   "source": [
    "gross_df.dropna(subset=['studio'], inplace=True)"
   ]
  },
  {
   "cell_type": "markdown",
   "metadata": {},
   "source": [
    "### Filling the rest of the NaN values with 0 for ease of column manipulation:"
   ]
  },
  {
   "cell_type": "code",
   "execution_count": 6,
   "metadata": {},
   "outputs": [],
   "source": [
    "gross_df.fillna(0, inplace=True)"
   ]
  },
  {
   "cell_type": "markdown",
   "metadata": {},
   "source": [
    "###  Cleaning Foreign Gross and changing it's type Objec into Int, and Domestic Gross into Int:"
   ]
  },
  {
   "cell_type": "code",
   "execution_count": 7,
   "metadata": {},
   "outputs": [],
   "source": [
    "def clean_str(x):\n",
    "    '''\n",
    "    Takes a string that has commas ',' or dots '.' in it, strips them, multiply them by a thousand to adjust their value.\n",
    "    The only strings with this caracteristics were gross values of over one billion.\n",
    "    \n",
    "    Input: string\n",
    "    Output: string stripped, joined and corrected to a billion.\n",
    "    '''\n",
    "    if x:\n",
    "        if ',' in x:\n",
    "            x = x.split(',')\n",
    "            x = ''.join(x)\n",
    "            x = x.split('.')\n",
    "            x = ''.join(x)\n",
    "            x = int(x)\n",
    "            x = x * 100000\n",
    "            x = str(x)\n",
    "            return x\n",
    "        else:\n",
    "            return x\n",
    "    else:\n",
    "        return x"
   ]
  },
  {
   "cell_type": "code",
   "execution_count": 8,
   "metadata": {},
   "outputs": [],
   "source": [
    "gross_df['foreign_gross'] = gross_df['foreign_gross'].apply(str)\n",
    "gross_df['foreign_gross'] = gross_df['foreign_gross'].apply(clean_str)\n",
    "gross_df['foreign_gross'] = gross_df['foreign_gross'].apply(int)\n",
    "gross_df['domestic_gross'] = gross_df['domestic_gross'].apply(int)"
   ]
  },
  {
   "cell_type": "markdown",
   "metadata": {},
   "source": [
    "## Data Modeling\n",
    "Here the Domestic Gross and Foreign Gross were combined, since we are interested in the Total Worldwide Gross.\n",
    "Tables were created featuring the Top 10 Highest Grossing Movies, the Highest Grossing Movie per year, the Top 5 Studios with Highest Overall Gross, and a table with the franchise movies total gross. These can give us ideas not only on types of movies Microsoft could make, but business partners and overall trend over time."
   ]
  },
  {
   "cell_type": "markdown",
   "metadata": {},
   "source": [
    "### Creating Total Gross column:"
   ]
  },
  {
   "cell_type": "code",
   "execution_count": 9,
   "metadata": {},
   "outputs": [],
   "source": [
    "gross_df['total_gross'] = gross_df['domestic_gross'] + gross_df['foreign_gross']"
   ]
  },
  {
   "cell_type": "code",
   "execution_count": 10,
   "metadata": {
    "scrolled": true
   },
   "outputs": [
    {
     "data": {
      "text/html": [
       "<div>\n",
       "<style scoped>\n",
       "    .dataframe tbody tr th:only-of-type {\n",
       "        vertical-align: middle;\n",
       "    }\n",
       "\n",
       "    .dataframe tbody tr th {\n",
       "        vertical-align: top;\n",
       "    }\n",
       "\n",
       "    .dataframe thead th {\n",
       "        text-align: right;\n",
       "    }\n",
       "</style>\n",
       "<table border=\"1\" class=\"dataframe\">\n",
       "  <thead>\n",
       "    <tr style=\"text-align: right;\">\n",
       "      <th></th>\n",
       "      <th>title</th>\n",
       "      <th>studio</th>\n",
       "      <th>domestic_gross</th>\n",
       "      <th>foreign_gross</th>\n",
       "      <th>year</th>\n",
       "      <th>total_gross</th>\n",
       "    </tr>\n",
       "  </thead>\n",
       "  <tbody>\n",
       "    <tr>\n",
       "      <th>1872</th>\n",
       "      <td>Star Wars: The Force Awakens</td>\n",
       "      <td>BV</td>\n",
       "      <td>936700000</td>\n",
       "      <td>1131600000</td>\n",
       "      <td>2015</td>\n",
       "      <td>2068300000</td>\n",
       "    </tr>\n",
       "    <tr>\n",
       "      <th>3079</th>\n",
       "      <td>Avengers: Infinity War</td>\n",
       "      <td>BV</td>\n",
       "      <td>678800000</td>\n",
       "      <td>1369500000</td>\n",
       "      <td>2018</td>\n",
       "      <td>2048300000</td>\n",
       "    </tr>\n",
       "    <tr>\n",
       "      <th>1873</th>\n",
       "      <td>Jurassic World</td>\n",
       "      <td>Uni.</td>\n",
       "      <td>652300000</td>\n",
       "      <td>1019400000</td>\n",
       "      <td>2015</td>\n",
       "      <td>1671700000</td>\n",
       "    </tr>\n",
       "    <tr>\n",
       "      <th>727</th>\n",
       "      <td>Marvel's The Avengers</td>\n",
       "      <td>BV</td>\n",
       "      <td>623400000</td>\n",
       "      <td>895500000</td>\n",
       "      <td>2012</td>\n",
       "      <td>1518900000</td>\n",
       "    </tr>\n",
       "    <tr>\n",
       "      <th>1874</th>\n",
       "      <td>Furious 7</td>\n",
       "      <td>Uni.</td>\n",
       "      <td>353000000</td>\n",
       "      <td>1163000000</td>\n",
       "      <td>2015</td>\n",
       "      <td>1516000000</td>\n",
       "    </tr>\n",
       "    <tr>\n",
       "      <th>1875</th>\n",
       "      <td>Avengers: Age of Ultron</td>\n",
       "      <td>BV</td>\n",
       "      <td>459000000</td>\n",
       "      <td>946400000</td>\n",
       "      <td>2015</td>\n",
       "      <td>1405400000</td>\n",
       "    </tr>\n",
       "    <tr>\n",
       "      <th>3080</th>\n",
       "      <td>Black Panther</td>\n",
       "      <td>BV</td>\n",
       "      <td>700100000</td>\n",
       "      <td>646900000</td>\n",
       "      <td>2018</td>\n",
       "      <td>1347000000</td>\n",
       "    </tr>\n",
       "    <tr>\n",
       "      <th>328</th>\n",
       "      <td>Harry Potter and the Deathly Hallows Part 2</td>\n",
       "      <td>WB</td>\n",
       "      <td>381000000</td>\n",
       "      <td>960500000</td>\n",
       "      <td>2011</td>\n",
       "      <td>1341500000</td>\n",
       "    </tr>\n",
       "    <tr>\n",
       "      <th>2758</th>\n",
       "      <td>Star Wars: The Last Jedi</td>\n",
       "      <td>BV</td>\n",
       "      <td>620200000</td>\n",
       "      <td>712400000</td>\n",
       "      <td>2017</td>\n",
       "      <td>1332600000</td>\n",
       "    </tr>\n",
       "    <tr>\n",
       "      <th>3081</th>\n",
       "      <td>Jurassic World: Fallen Kingdom</td>\n",
       "      <td>Uni.</td>\n",
       "      <td>417700000</td>\n",
       "      <td>891800000</td>\n",
       "      <td>2018</td>\n",
       "      <td>1309500000</td>\n",
       "    </tr>\n",
       "  </tbody>\n",
       "</table>\n",
       "</div>"
      ],
      "text/plain": [
       "                                            title studio  domestic_gross  \\\n",
       "1872                 Star Wars: The Force Awakens     BV       936700000   \n",
       "3079                       Avengers: Infinity War     BV       678800000   \n",
       "1873                               Jurassic World   Uni.       652300000   \n",
       "727                         Marvel's The Avengers     BV       623400000   \n",
       "1874                                    Furious 7   Uni.       353000000   \n",
       "1875                      Avengers: Age of Ultron     BV       459000000   \n",
       "3080                                Black Panther     BV       700100000   \n",
       "328   Harry Potter and the Deathly Hallows Part 2     WB       381000000   \n",
       "2758                     Star Wars: The Last Jedi     BV       620200000   \n",
       "3081               Jurassic World: Fallen Kingdom   Uni.       417700000   \n",
       "\n",
       "      foreign_gross  year  total_gross  \n",
       "1872     1131600000  2015   2068300000  \n",
       "3079     1369500000  2018   2048300000  \n",
       "1873     1019400000  2015   1671700000  \n",
       "727       895500000  2012   1518900000  \n",
       "1874     1163000000  2015   1516000000  \n",
       "1875      946400000  2015   1405400000  \n",
       "3080      646900000  2018   1347000000  \n",
       "328       960500000  2011   1341500000  \n",
       "2758      712400000  2017   1332600000  \n",
       "3081      891800000  2018   1309500000  "
      ]
     },
     "execution_count": 10,
     "metadata": {},
     "output_type": "execute_result"
    }
   ],
   "source": [
    "gross_df.sort_values(by='total_gross', ascending=False)[:10]"
   ]
  },
  {
   "cell_type": "code",
   "execution_count": 11,
   "metadata": {},
   "outputs": [],
   "source": [
    "def turn_to_billions(value):\n",
    "    '''\n",
    "    Input: list of values\n",
    "    Output: list of values with all values divided by 1 billion\n",
    "    '''\n",
    "    for i in range(len(value)):\n",
    "        value[i] /= 1000000000\n",
    "        \n",
    "    return value"
   ]
  },
  {
   "cell_type": "markdown",
   "metadata": {},
   "source": [
    "### Visualisation of the top10 highest grossing movies"
   ]
  },
  {
   "cell_type": "code",
   "execution_count": 12,
   "metadata": {},
   "outputs": [
    {
     "data": {
      "image/png": "[encoded data removed]",
      "text/plain": [
       "<Figure size 720x432 with 1 Axes>"
      ]
     },
     "metadata": {
      "needs_background": "light"
     },
     "output_type": "display_data"
    }
   ],
   "source": [
    "height_top10_gross = sorted(gross_df.sort_values(by='total_gross', ascending=False)[:10]['total_gross'].tolist())\n",
    "x_top10_gross = gross_df.sort_values(by='total_gross', ascending=False)[:10]['title'].values.tolist()\n",
    "\n",
    "fig, ax = plt.subplots(figsize=(10,6))\n",
    "height_top10_gross.reverse()\n",
    "\n",
    "turn_to_billions(height_top10_gross)\n",
    "\n",
    "x_lim = sorted(gross_df.sort_values(by='total_gross', ascending=False)[:10]['total_gross'].tolist())[-1] / 1000000000\n",
    "ax.set_xlim(1, x_lim+.02)\n",
    "barplot = sns.barplot(x=height_top10_gross, y=x_top10_gross, data=gross_df, color='#00A4EF')\n",
    "barplot.set(title='Top 10 Highest Gross Movies', xlabel='Gross in Billions of Dollars ($)');\n",
    "# plt.savefig('output9.png', bbox_inches='tight')"
   ]
  },
  {
   "cell_type": "markdown",
   "metadata": {},
   "source": [
    "This visualisation shows that all the top grossing movies of the last ten years are from a franchise of movies from a given studio. This gave me the idea of looking up how those type of movies are faring in the box office"
   ]
  },
  {
   "cell_type": "markdown",
   "metadata": {},
   "source": [
    "### Creating a Franchise database, including Jurassi Park, Harry Potter, Fast and Furious and the top20 grossing Disney movies:"
   ]
  },
  {
   "cell_type": "code",
   "execution_count": 13,
   "metadata": {},
   "outputs": [],
   "source": [
    "# Fast and Furious franchise\n",
    "ff1_df = gross_df[gross_df['title'].str.contains('Furious')].copy()\n",
    "ff2_df = gross_df[gross_df['title'].str.contains('Fast')].copy()\n",
    "concat_ff = [ff1_df, ff2_df]\n",
    "ff_df = pd.concat(concat_ff)\n",
    "ff_drop = ff_df[ff_df['studio'] != 'Uni.']\n",
    "ff_df.drop(ff_drop.index, axis=0, inplace=True)\n",
    "ff_df.drop_duplicates(inplace=True)"
   ]
  },
  {
   "cell_type": "code",
   "execution_count": 14,
   "metadata": {
    "scrolled": true
   },
   "outputs": [],
   "source": [
    "# Jurassic Park franchise\n",
    "jp_df = gross_df[gross_df['title'].str.contains('Jurassic')].copy()\n",
    "jp_drop = jp_df[jp_df['studio'] != 'Uni.']\n",
    "jp_df.drop(jp_drop.index, axis=0, inplace=True)"
   ]
  },
  {
   "cell_type": "code",
   "execution_count": 15,
   "metadata": {},
   "outputs": [],
   "source": [
    "# Harry Potter franchise\n",
    "hp_df = gross_df[gross_df['title'].str.contains('Harry Potter')].copy()"
   ]
  },
  {
   "cell_type": "code",
   "execution_count": 16,
   "metadata": {},
   "outputs": [],
   "source": [
    "# Disney top20 gross movies\n",
    "dis_df = gross_df[gross_df['studio'].str.contains('BV')].sort_values(by=['total_gross'], ascending=False)[:20].copy()"
   ]
  },
  {
   "cell_type": "code",
   "execution_count": 17,
   "metadata": {},
   "outputs": [],
   "source": [
    "# Concatenating them together\n",
    "to_concat = [ff_df, jp_df, hp_df, dis_df]\n",
    "franch_df = pd.concat(to_concat)\n",
    "franch_df.drop(['domestic_gross', 'foreign_gross', 'year', 'studio'], axis=1, inplace=True)\n",
    "franch_df.set_index('title', inplace=True)\n",
    "franch_df.reset_index(inplace=True)"
   ]
  },
  {
   "cell_type": "markdown",
   "metadata": {},
   "source": [
    "### Visualisation of Franchise movies"
   ]
  },
  {
   "cell_type": "code",
   "execution_count": 18,
   "metadata": {
    "scrolled": false
   },
   "outputs": [
    {
     "data": {
      "image/png": "[encoded data removed]",
      "text/plain": [
       "<Figure size 720x576 with 1 Axes>"
      ]
     },
     "metadata": {
      "needs_background": "light"
     },
     "output_type": "display_data"
    }
   ],
   "source": [
    "fig, ax = plt.subplots(figsize=(10,8))\n",
    "y_franch = franch_df.sort_values(by='total_gross', ascending=False)['title'][:20].values.tolist()\n",
    "x_franch = franch_df.sort_values(by='total_gross', ascending=False)['total_gross'][:20].tolist()\n",
    "\n",
    "turn_to_billions(x_franch)\n",
    "\n",
    "barplot = sns.barplot(x=x_franch, y=y_franch, data=franch_df, color='#00A4EF')\n",
    "barplot.set(title='Franchise Movies', xlabel='Gross in Billions of Dollars ($)');\n",
    "# plt.savefig('output9.png', bbox_inches='tight')"
   ]
  },
  {
   "cell_type": "markdown",
   "metadata": {},
   "source": [
    "Unsurprisingly this visualisation has a lot of the same ones of the highest gross movies. It's interesting to note though, that everry movie, from the top20 franchise movie, grossed over 1 billion dollars world wide."
   ]
  },
  {
   "cell_type": "markdown",
   "metadata": {},
   "source": [
    "### Creating visualisation for top5 gross movies by their studio"
   ]
  },
  {
   "cell_type": "code",
   "execution_count": 19,
   "metadata": {},
   "outputs": [
    {
     "data": {
      "image/png": "[encoded data removed]",
      "text/plain": [
       "<Figure size 432x288 with 1 Axes>"
      ]
     },
     "metadata": {
      "needs_background": "light"
     },
     "output_type": "display_data"
    }
   ],
   "source": [
    "fig, ax = plt.subplots()\n",
    "\n",
    "x_studio_max = gross_df.groupby(['studio'])['total_gross'].max().sort_values()[-5:].index\n",
    "height_studio_max = gross_df.groupby(['studio'])['total_gross'].max().sort_values()[-5:].values.astype(list)\n",
    "\n",
    "studios = ('Sony', 'DreamWorks', 'Warner Brothers', 'Universal', 'Disney')\n",
    "\n",
    "turn_to_billions(height_studio_max)\n",
    "\n",
    "ax.barh(x_studio_max, height_studio_max)\n",
    "ax.set_title('Highest Gross from each Studio')\n",
    "ax.set_xlabel('Gross in Billions of Dollars ($)')\n",
    "ax.set_yticks(np.arange(len(studios)))\n",
    "ax.set_yticklabels(studios);"
   ]
  },
  {
   "cell_type": "markdown",
   "metadata": {},
   "source": [
    "Apart knowing how the other studios are comparing to each other gross wise, this graph does not  give us information that could lead to a suggestion."
   ]
  },
  {
   "cell_type": "markdown",
   "metadata": {},
   "source": [
    "### Creating visualisation for top grossing movie per year"
   ]
  },
  {
   "cell_type": "code",
   "execution_count": 20,
   "metadata": {},
   "outputs": [
    {
     "data": {
      "image/png": "[encoded data removed]",
      "text/plain": [
       "<Figure size 432x288 with 1 Axes>"
      ]
     },
     "metadata": {
      "needs_background": "light"
     },
     "output_type": "display_data"
    }
   ],
   "source": [
    "fig, ax = plt.subplots()\n",
    "\n",
    "height_year_total = gross_df.groupby(['year'])['total_gross'].max().sort_values().values.astype(list)\n",
    "x_year_total = gross_df.groupby(['year'])['total_gross'].max().sort_values().index\n",
    "\n",
    "turn_to_billions(height_year_total)\n",
    "\n",
    "ax.barh(x_year_total, height_year_total)\n",
    "ax.set_title('Highest Gross each Year')\n",
    "ax.set_xlabel('Gross in Billions of Dollars ($)');"
   ]
  },
  {
   "cell_type": "markdown",
   "metadata": {},
   "source": [
    "This again doesn't offer insight for a business recommendation."
   ]
  },
  {
   "cell_type": "markdown",
   "metadata": {},
   "source": [
    "### Top200 Most Profitable Movies Runtime"
   ]
  },
  {
   "cell_type": "markdown",
   "metadata": {},
   "source": [
    "For this visualisation, I took the Profit column created from the The Numbers Movie Budget data set, and combined it with the Imdb Title Basics dataset."
   ]
  },
  {
   "cell_type": "code",
   "execution_count": 21,
   "metadata": {},
   "outputs": [],
   "source": [
    "awdf_tbasics = pd.read_csv('data/zippedData/imdb.title.basics.csv.gz')\n",
    "awdf_tratings = pd.read_csv('data/zippedData/imdb.title.ratings.csv.gz')\n",
    "df_budget = pd.read_csv('data/zippedData/tn.movie_budgets.csv.gz')"
   ]
  },
  {
   "cell_type": "code",
   "execution_count": 22,
   "metadata": {},
   "outputs": [],
   "source": [
    "# filter the data to see only results with over 5000 votes\n",
    "leftjoin_rating_basics = awdf_tratings.set_index('tconst').join(awdf_tbasics.set_index('tconst'), how='left', lsuffix='1', rsuffix='2')\n",
    "sorted_numvotes = leftjoin_rating_basics.sort_values(by='numvotes', ascending=False)\n",
    "sorted_averatings = leftjoin_rating_basics.sort_values(by='averagerating', \n",
    "                                                       ascending=False).loc[leftjoin_rating_basics['numvotes'] >= 50000]\n",
    "\n",
    "# get rid of uninmportant information for this visualisation\n",
    "sorted_averatings.reset_index(inplace=True)\n",
    "sorted_averatings.drop(['tconst', 'averagerating', 'numvotes', 'start_year', 'original_title', 'genres'], axis=1, inplace=True)\n",
    "sorted_averatings.rename(columns={'primary_title': 'title'}, inplace=True)\n",
    "sorted_averatings.set_index('title', inplace=True)"
   ]
  },
  {
   "cell_type": "code",
   "execution_count": 23,
   "metadata": {},
   "outputs": [],
   "source": [
    "# clean columns of commas and dollar signs. Turns them into Int\n",
    "df_budget['production_budget'] = df_budget['production_budget'].str.replace(',', '').str.replace('$', '', regex=False).astype(int)\n",
    "df_budget['domestic_gross'] = df_budget['domestic_gross'].str.replace(',', '').str.replace('$', '', regex=False).astype(int)\n",
    "df_budget['worldwide_gross'] = df_budget['worldwide_gross'].str.replace(',', '')\n",
    "df_budget['worldwide_gross'] = df_budget['worldwide_gross'].str.replace('$', '', regex=False)\n",
    "def to_int(x):\n",
    "    x = int(x)\n",
    "    return x\n",
    "df_budget['worldwide_gross'] = df_budget['worldwide_gross'].apply(to_int)\n",
    "\n",
    "# create 'profit' column and get rid of uninmportant information for this visualisation\n",
    "df_budget['profit'] = df_budget['worldwide_gross'] - df_budget['production_budget']\n",
    "df_budget.drop(['id', 'release_date', 'production_budget', 'domestic_gross', 'worldwide_gross'], axis=1, inplace=True)\n",
    "df_budget.rename(columns={'movie': 'title'}, inplace=True)\n",
    "df_budget.set_index('title', inplace=True)"
   ]
  },
  {
   "cell_type": "code",
   "execution_count": 24,
   "metadata": {},
   "outputs": [],
   "source": [
    "# join the profit with runtime dataframes. Drops NaN and duplicates\n",
    "prof_run_df = df_budget.join(sorted_averatings)\n",
    "prof_run_df.reset_index(inplace=True)\n",
    "prof_run_df.dropna(inplace=True)\n",
    "prof_run_df.drop_duplicates(subset=['title'], inplace=True)"
   ]
  },
  {
   "cell_type": "code",
   "execution_count": 25,
   "metadata": {},
   "outputs": [
    {
     "name": "stdout",
     "output_type": "stream",
     "text": [
      "133.0\n",
      "104.0\n"
     ]
    }
   ],
   "source": [
    "# finds the runtime of the top200 performing movies\n",
    "top200_runtime_arr = prof_run_df.sort_values(by='profit', ascending=False).sort_values(by='profit', ascending=False)[:200]['runtime_minutes'].values\n",
    "print(np.percentile(top200_runtime_arr, 75))\n",
    "print(np.percentile(top200_runtime_arr, 25))"
   ]
  },
  {
   "cell_type": "code",
   "execution_count": 30,
   "metadata": {
    "scrolled": false
   },
   "outputs": [
    {
     "data": {
      "image/png": "[encoded data removed]",
      "text/plain": [
       "<Figure size 432x720 with 1 Axes>"
      ]
     },
     "metadata": {
      "needs_background": "light"
     },
     "output_type": "display_data"
    }
   ],
   "source": [
    "top200_prof_df = prof_run_df.sort_values(by='profit', ascending=False).sort_values(by='profit', ascending=False)[:200]\n",
    "fig, ax = plt.subplots(figsize=(6, 10))\n",
    "\n",
    "ax = sns.boxplot(y=\"runtime_minutes\", data=top200_prof_df, linewidth=2.5, color=\"#7FBA00\", showfliers=False)\n",
    "ax.set_ylabel('Runtime in Minutes')\n",
    "ax.set_title('Top200 \\nMost Profitable Movies \\nRuntime')\n",
    "sns.set_context('poster');"
   ]
  },
  {
   "cell_type": "markdown",
   "metadata": {},
   "source": [
    "The top 200 most profitable movies have an interquartile range of 29 minutes, between 104 minutes and 133 minutes. We can extrapolate that a movie whitin this range has a higher chance of being more profitable."
   ]
  },
  {
   "cell_type": "markdown",
   "metadata": {},
   "source": [
    "## Evaluation\n",
    "- This data shows that Disney is currently making the highest grossing movies nowadays.<br />\n",
    "- The top10 high gross movies are all franchise movies. There's the Star Wars franchise, Avengers franchise, Jurassic Park franchise, Fast and Furious franchise and Harry Potter franchise.<br />\n",
    "- The top15 franchise movies have grossed over 1 billion dollars.<br />\n",
    "- Since the franchises these movies are a part of are not new (all of them have over 10 years of movies), we cold assume an extrapolation of the data would give similar results.\n",
    "- The IQR of the top200 most profitable movies runtime shows us our range of recommendation for runtime.\n",
    "***"
   ]
  },
  {
   "cell_type": "markdown",
   "metadata": {},
   "source": [
    "## Conclusions\n",
    "The data for only the last eight years is limited, but if one is looking to make a big box office movie in the next few years, the data from over a decade ago might be less relevant for decision making.\n",
    "We opted to go with Profit as our most important metric instead of Gross, but the information is very similar.\n",
    "The IQR of the runtime of the most profitable movies gives a good recommendation for runtime length.\n",
    "As of now I'd recommend picking a popular franchise that haven't been debuted in the cinemas yet, and make movies based on them.\n",
    "***"
   ]
  }
 ],
 "metadata": {
  "kernelspec": {
   "display_name": "Python 3",
   "language": "python",
   "name": "python3"
  },
  "language_info": {
   "codemirror_mode": {
    "name": "ipython",
    "version": 3
   },
   "file_extension": ".py",
   "mimetype": "text/x-python",
   "name": "python",
   "nbconvert_exporter": "python",
   "pygments_lexer": "ipython3",
   "version": "3.8.8"
  }
 },
 "nbformat": 4,
 "nbformat_minor": 4
}
